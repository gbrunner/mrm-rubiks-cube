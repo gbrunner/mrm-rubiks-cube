{
 "cells": [
  {
   "cell_type": "markdown",
   "metadata": {},
   "source": [
    "# Backgorund Links\n",
    "\n",
    "## [World Record for solving a Rubiks Cube](https://www.guinnessworldrecords.com/world-records/72863-fastest-time-to-solve-a-rubiks-cube#:~:text=The%20fastest%20time%20to%20solve,a%20World%20Cube%20Association%20event.)\n",
    "The fastest time to solve a 3x3x3 rotating puzzle cube is 3.47 seconds by Yusheng Du (China) at the Wuhu Open 2018 in Wuhu, Anhui province, China, on 24 November 2018. This is the first sub-4-second solve of a cube by a human in a World Cube Association event.\n",
    "\n",
    "## [How to solve a Rubik's cube](https://ruwix.com/the-rubiks-cube/how-to-solve-the-rubiks-cube-beginners-method/)\n",
    "## [Rubik's robot solves puzzle in 0.38 seconds](https://www.bbc.com/news/technology-43331049#:~:text=A%20robot%20that%20can%20solve,and%20his%20robot%20Sub1%20Reloaded.)\n",
    "## [But it is mathematically complicated — there are 43 quintillion possible configurations of the Cube.](https://www.businessinsider.com/rubiks-cube-gods-number-steps-to-solve-any-cube-2019-1#:~:text=The%20Rubik's%20Cube%20is%20an,in%20at%20most%2020%20moves.)\n",
    "\n",
    "## [Lottery odds](https://www.liveabout.com/how-many-lottery-combinations-to-guarantee-a-jackpot-4165141#:~:text=To%20win%20the%20jackpot%2C%20you,ticket%20are%20one%20in%20292%2C201%2C338.)\n",
    "\n",
    "Matthew can solve it in 30 seconds. Matthew has only been doing this for 4 to 6 months."
   ]
  },
  {
   "cell_type": "markdown",
   "metadata": {},
   "source": [
    "# Nomenclature - How do you describe a rubik's cube?\n",
    "\n",
    "## Describe the cube and pieces\n",
    "\n",
    "- 3x3x3 puzzle dube puzzle. \n",
    "- 6 faces of different colors\n",
    "- Eeach individual edge cube has 3 colors\n",
    "- Center edges have 2 colors\n",
    "- Center cubes have 1 color\n",
    "- Matthew needs to describe the opposites\n",
    "- White is the bottom layer.\n",
    "- Yellow is the Up layer\n",
    "- Red, Blue, Green, Orage is the middle layer.\n",
    "\n",
    "The final solution to a rubiks cube always looks the same after it's been solved.\n",
    "\n",
    "## Describe how it moves\n",
    "\n",
    "- R\n",
    "- R-prime\n",
    "- U\n",
    "- U-prime\n",
    "- D\n",
    "- D-prime\n",
    "\n",
    "[All of the possible moves are listed here](https://jperm.net/3x3/moves). There's more than you realize. These are the kind of things you can use as graphics in your report. Or of you want to be super dilligent, you can take your own pictures or do your own drawings.\n"
   ]
  },
  {
   "cell_type": "markdown",
   "metadata": {},
   "source": [
    "# How do you actually solve the rubik's cube?\n",
    "\n",
    "There are many algorithms...\n",
    "\n",
    "## For a beginner... (Matthew should explain this)\n",
    "Where to start?\n",
    "White daisy approach. White cross on the yellow face? \n",
    "[This YouTube video describtes it](https://www.youtube.com/watch?v=2mgtMpoAd8c). Matthew needs to describe it.\n",
    "\n",
    "These could be section headers with explanations. Matthew should fill out the details below each section. These sections may change depending on how it flows and what makes sense to the reader.\n",
    "### 1. Order the centers\n",
    "### 2. Once you match a white piece with the white center color,  make the white daisy\n",
    "### 3. Solve the white face.\n",
    "### 4. Solve the middle\\second layer\n",
    "Examples of the moves to make: To the right, U. R, U', R', U'...\n",
    "THis gets us to solving the second layer, which is whatever color you want?\n",
    "### 5. Solve the top layer. \n",
    "Solve the yellow cross\n",
    "Remember, solve it bottom, middle, top.\n",
    "\n",
    "\n",
    "## For an expert\n",
    "For someone who already knows how to do this, what do they do?\n",
    "\n",
    "They do almost the same as the beginner approach, except instead of solving for the white centers, you solve the middle layer with the white corners.\n",
    "Supplement this with drawings or pictures.\n",
    "\n",
    "Bottom, middle, top approach still holds true. This time, however, you are simultaneously trying to solve the white corners with the second layer. So essentially trying to solve the middle at the same time as the white layer. \n",
    "\n",
    "[This is called F2L. Check out this page](https://ruwix.com/the-rubiks-cube/advanced-cfop-fridrich/first-two-layers-f2l/)\n",
    "\n",
    "Matthew has a faster version of F2L. Can he explain and describe it?\n",
    "\n",
    "## For a computer\n",
    "How does the computer solve it in 20 moves or fewer?\n",
    "\n",
    "Have you heard of the [super-flip](https://www.cubelelo.com/blogs/cubing/how-to-solve-rubiks-cube-in-20-moves)?\n",
    "\n",
    "Article on [Business Insider](https://www.businessinsider.com/rubiks-cube-gods-number-steps-to-solve-any-cube-2019-1)\n",
    "\n",
    "I think you should do some additional reasearch on this.\n",
    "\n",
    "![](https://media2.giphy.com/media/B2FBiUjiYiSMzJzmlL/giphy-downsized-large.gif)\n",
    "\n",
    "![](https://c.tenor.com/dR6vK_dQ1UgAAAAM/%C3%B3culos-escuro.gif)\n"
   ]
  },
  {
   "cell_type": "markdown",
   "metadata": {},
   "source": [
    "# Solving a rubik's cube with Python on Google Colab\n",
    "\n",
    "This is just stuff I was playing with.\n"
   ]
  },
  {
   "cell_type": "code",
   "execution_count": 1,
   "metadata": {},
   "outputs": [
    {
     "name": "stdout",
     "output_type": "stream",
     "text": [
      "Collecting rubik-cube\n",
      "  Downloading rubik_cube-0.0.1-py3-none-any.whl (14 kB)\n",
      "Installing collected packages: rubik-cube\n",
      "Successfully installed rubik-cube-0.0.1\n"
     ]
    }
   ],
   "source": [
    "!pip install rubik-cube"
   ]
  },
  {
   "cell_type": "code",
   "execution_count": 2,
   "metadata": {},
   "outputs": [],
   "source": [
    "from rubik.cube import Cube"
   ]
  },
  {
   "cell_type": "code",
   "execution_count": 3,
   "metadata": {},
   "outputs": [],
   "source": [
    "c = Cube(\"OOOOOOOOOYYYWWWGGGBBBYYYWWWGGGBBBYYYWWWGGGBBBRRRRRRRRR\")"
   ]
  },
  {
   "cell_type": "code",
   "execution_count": 5,
   "metadata": {},
   "outputs": [
    {
     "name": "stdout",
     "output_type": "stream",
     "text": [
      "    OOO\n",
      "    OOO\n",
      "    OOO\n",
      "YYY WWW GGG BBB\n",
      "YYY WWW GGG BBB\n",
      "YYY WWW GGG BBB\n",
      "    RRR\n",
      "    RRR\n",
      "    RRR\n"
     ]
    }
   ],
   "source": [
    "print(c)"
   ]
  },
  {
   "cell_type": "code",
   "execution_count": 7,
   "metadata": {},
   "outputs": [
    {
     "data": {
      "text/plain": [
       "True"
      ]
     },
     "execution_count": 7,
     "metadata": {},
     "output_type": "execute_result"
    }
   ],
   "source": [
    "c.is_solved()"
   ]
  },
  {
   "cell_type": "code",
   "execution_count": 8,
   "metadata": {},
   "outputs": [],
   "source": [
    "c = Cube(\"YYYOOOOOOOOOWWGWGGBBBYYYWWWGGGBBBYYYWWWGGGBBBRRRRRRRRR\")"
   ]
  },
  {
   "cell_type": "code",
   "execution_count": 15,
   "metadata": {},
   "outputs": [],
   "source": [
    "import random\n",
    "import time\n",
    "from rubik import solve\n",
    "from rubik.cube import Cube\n",
    "from rubik.solve import Solver\n",
    "from rubik.optimize import optimize_moves\n",
    "\n",
    "SOLVED_CUBE_STR = \"OOOOOOOOOYYYWWWGGGBBBYYYWWWGGGBBBYYYWWWGGGBBBRRRRRRRRR\"\n",
    "MOVES = [\"L\", \"R\", \"U\", \"D\", \"F\", \"B\", \"M\", \"E\", \"S\"]\n",
    "\n",
    "\n",
    "def random_cube():\n",
    "    \"\"\"\n",
    "    :return: A new scrambled Cube\n",
    "    \"\"\"\n",
    "    scramble_moves = \" \".join(random.choices(MOVES, k=10000))\n",
    "    a = Cube(SOLVED_CUBE_STR)\n",
    "    a.sequence(scramble_moves)\n",
    "    return a\n"
   ]
  },
  {
   "cell_type": "code",
   "execution_count": 16,
   "metadata": {},
   "outputs": [
    {
     "name": "stdout",
     "output_type": "stream",
     "text": [
      "    OBG\n",
      "    BYR\n",
      "    OOR\n",
      "YOW GGG WYR BYB\n",
      "ROG WBG RRR WWB\n",
      "RYG OBY OOR BWW\n",
      "    BGW\n",
      "    WGY\n",
      "    YOY\n"
     ]
    }
   ],
   "source": [
    "new_cube = random_cube()\n",
    "print(new_cube)"
   ]
  },
  {
   "cell_type": "code",
   "execution_count": 17,
   "metadata": {},
   "outputs": [],
   "source": [
    "def show_moves(C):\n",
    "    solver = Solver(C)\n",
    "    start = time.time()\n",
    "    solver.solve()\n",
    "    duration = time.time() - start\n",
    "    if C.is_solved():\n",
    "        print(\"Done.\")\n",
    "    else:\n",
    "        print(solver.moves)"
   ]
  },
  {
   "cell_type": "code",
   "execution_count": 18,
   "metadata": {},
   "outputs": [
    {
     "name": "stdout",
     "output_type": "stream",
     "text": [
      "['U', 'B', 'Ui', 'E', 'L', 'Ei', 'Li', 'B', 'R', 'R', 'Z', 'B', 'B', 'B', 'Ei', 'R', 'E', 'Ri', 'Zi', 'B', 'B', 'B', 'Ri', 'B', 'B', 'R', 'Bi', 'Bi', 'D', 'Bi', 'Di', 'Z', 'B', 'B', 'B', 'D', 'Bi', 'Di', 'Z', 'D', 'B', 'Di', 'B', 'B', 'B', 'Bi', 'Ri', 'B', 'R', 'Z', 'D', 'B', 'Di', 'B', 'B', 'B', 'Ri', 'B', 'B', 'R', 'Bi', 'Bi', 'D', 'Bi', 'Di', 'Z', 'B', 'Bi', 'Di', 'B', 'D', 'B', 'L', 'Bi', 'Li', 'Z', 'B', 'B', 'B', 'L', 'Bi', 'Li', 'Bi', 'Di', 'B', 'D', 'Z', 'B', 'B', 'B', 'B', 'L', 'Bi', 'Li', 'Bi', 'Di', 'B', 'D', 'Z', 'B', 'B', 'L', 'Bi', 'Li', 'Bi', 'Di', 'B', 'D', 'Z', 'X', 'X', 'F', 'F', 'F', 'D', 'F', 'R', 'Fi', 'Ri', 'Di', 'Xi', 'Xi', 'X', 'X', 'Z', 'F', 'Li', 'Fi', 'L', 'D', 'F', 'Di', 'Li', 'F', 'L', 'F', 'Zi', 'F', 'Li', 'Fi', 'L', 'D', 'F', 'Di', 'Li', 'F', 'L', 'F', 'Li', 'Fi', 'L', 'D', 'F', 'Di', 'Li', 'F', 'L', 'F', 'F', 'Xi', 'Xi', 'X', 'X', 'F', 'F', 'F', 'R', 'F', 'Ri', 'F', 'R', 'F', 'F', 'Ri', 'F', 'F', 'F', 'Xi', 'Xi', 'X', 'X', 'F', 'F', 'F', 'Ri', 'S', 'Ri', 'Ri', 'S', 'S', 'Ri', 'Fi', 'Fi', 'R', 'Si', 'Si', 'Ri', 'Ri', 'Si', 'R', 'Fi', 'Fi', 'Fi', 'Fi', 'Fi', 'R', 'R', 'F', 'D', 'Ui', 'R', 'R', 'Di', 'U', 'F', 'R', 'R', 'Z', 'Z', 'Z', 'Z', 'Z', 'Z', 'Z', 'R', 'R', 'F', 'D', 'Ui', 'R', 'R', 'Di', 'U', 'F', 'R', 'R', 'Z', 'Z', 'Z', 'Z', 'R', 'R', 'F', 'D', 'Ui', 'R', 'R', 'Di', 'U', 'F', 'R', 'R', 'Z', 'Di', 'Li', 'Ri', 'S', 'Ri', 'Ri', 'S', 'S', 'Ri', 'Fi', 'Fi', 'R', 'Si', 'Si', 'Ri', 'Ri', 'Si', 'R', 'Fi', 'Fi', 'L', 'D']\n",
      "CPU times: user 49 ms, sys: 24 µs, total: 49 ms\n",
      "Wall time: 48.5 ms\n"
     ]
    }
   ],
   "source": [
    "%%time\n",
    "solver = Solver(new_cube)\n",
    "start = time.time()\n",
    "\n",
    "\n",
    "\n",
    "solver.solve()\n",
    "\n",
    "print(solver.moves)"
   ]
  },
  {
   "cell_type": "code",
   "execution_count": 19,
   "metadata": {},
   "outputs": [
    {
     "data": {
      "text/plain": [
       "275"
      ]
     },
     "execution_count": 19,
     "metadata": {},
     "output_type": "execute_result"
    }
   ],
   "source": [
    "len(solver.moves)"
   ]
  },
  {
   "cell_type": "code",
   "execution_count": 22,
   "metadata": {},
   "outputs": [
    {
     "data": {
      "text/plain": [
       "{'B',\n",
       " 'Bi',\n",
       " 'D',\n",
       " 'Di',\n",
       " 'E',\n",
       " 'Ei',\n",
       " 'F',\n",
       " 'Fi',\n",
       " 'L',\n",
       " 'Li',\n",
       " 'R',\n",
       " 'Ri',\n",
       " 'S',\n",
       " 'Si',\n",
       " 'U',\n",
       " 'Ui',\n",
       " 'X',\n",
       " 'Xi',\n",
       " 'Z',\n",
       " 'Zi'}"
      ]
     },
     "execution_count": 22,
     "metadata": {},
     "output_type": "execute_result"
    }
   ],
   "source": [
    "set(solver.moves)"
   ]
  },
  {
   "cell_type": "code",
   "execution_count": 21,
   "metadata": {},
   "outputs": [
    {
     "data": {
      "text/plain": [
       "20"
      ]
     },
     "execution_count": 21,
     "metadata": {},
     "output_type": "execute_result"
    }
   ],
   "source": [
    "len(set(solver.moves))"
   ]
  },
  {
   "cell_type": "code",
   "execution_count": 5,
   "metadata": {},
   "outputs": [
    {
     "name": "stdout",
     "output_type": "stream",
     "text": [
      "Done.\n"
     ]
    }
   ],
   "source": [
    "show_moves(new_cube)"
   ]
  },
  {
   "cell_type": "code",
   "execution_count": null,
   "metadata": {},
   "outputs": [],
   "source": [
    "\n",
    "\n",
    "def run():\n",
    "    successes = 0\n",
    "    failures = 0\n",
    "\n",
    "    avg_opt_moves = 0.0\n",
    "    avg_moves = 0.0\n",
    "    avg_time = 0.0\n",
    "    while True:\n",
    "        C = random_cube()\n",
    "        solver = Solver(C)\n",
    "\n",
    "        start = time.time()\n",
    "        solver.solve()\n",
    "        duration = time.time() - start\n",
    "\n",
    "        if C.is_solved():\n",
    "            opt_moves = optimize_moves(solver.moves)\n",
    "            successes += 1\n",
    "            avg_moves = (avg_moves * (successes - 1) + len(solver.moves)) / float(successes)\n",
    "            avg_time = (avg_time * (successes - 1) + duration) / float(successes)\n",
    "            avg_opt_moves = (avg_opt_moves * (successes - 1) + len(opt_moves)) / float(successes)\n",
    "        else:\n",
    "            failures += 1\n",
    "            print(f\"Failed ({successes + failures}): {C.flat_str()}\")\n",
    "\n",
    "        total = successes + failures\n",
    "        if total == 1 or total % 100 == 0:\n",
    "            pass_percentage = 100 * successes / total\n",
    "            print(f\"{total}: {successes} successes ({pass_percentage:0.3f}% passing)\"\n",
    "                  f\" avg_moves={avg_moves:0.3f} avg_opt_moves={avg_opt_moves:0.3f}\"\n",
    "                  f\" avg_time={avg_time:0.3f}s\")\n",
    "\n",
    "\n",
    "if __name__ == '__main__':\n",
    "    solve.DEBUG = False\n",
    "    run()"
   ]
  }
 ],
 "metadata": {
  "esriNotebookRuntime": {
   "notebookRuntimeName": "ArcGIS Notebook Python 3 Standard",
   "notebookRuntimeVersion": "6.0"
  },
  "kernelspec": {
   "display_name": "Python 3 (ipykernel)",
   "language": "python",
   "name": "python3"
  },
  "language_info": {
   "codemirror_mode": {
    "name": "ipython",
    "version": 3
   },
   "file_extension": ".py",
   "mimetype": "text/x-python",
   "name": "python",
   "nbconvert_exporter": "python",
   "pygments_lexer": "ipython3",
   "version": "3.7.11"
  }
 },
 "nbformat": 4,
 "nbformat_minor": 2
}
